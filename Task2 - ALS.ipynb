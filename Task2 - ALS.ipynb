{
 "cells": [
  {
   "cell_type": "markdown",
   "metadata": {},
   "source": [
    "В изысканиях опирался на данную статью: https://medium.com/radon-dev/als-implicit-collaborative-filtering-5ed653ba39fe\n",
    "Предварительно прослушал про ALS https://www.youtube.com/watch?v=NlNLtPqlCK0"
   ]
  },
  {
   "cell_type": "code",
   "execution_count": 4,
   "metadata": {},
   "outputs": [],
   "source": [
    "import sys\n",
    "import pandas as pd\n",
    "import numpy as np\n",
    "import scipy.sparse as sparse\n",
    "from scipy.sparse.linalg import spsolve\n",
    "import random\n",
    "\n",
    "from sklearn.preprocessing import MinMaxScaler\n",
    "\n",
    "import warnings\n",
    "warnings.filterwarnings(\"ignore\")\n",
    "\n",
    "import implicit"
   ]
  },
  {
   "cell_type": "markdown",
   "metadata": {},
   "source": [
    "### Load Data"
   ]
  },
  {
   "cell_type": "code",
   "execution_count": 5,
   "metadata": {},
   "outputs": [],
   "source": [
    "train = pd.read_csv('input/train_2.csv')\n",
    "test = pd.read_csv('input/test_2.csv')\n",
    "user_features = pd.read_csv('input/user-features_2.csv')\n",
    "item_features = pd.read_csv('input/item-features_2.csv')"
   ]
  },
  {
   "cell_type": "markdown",
   "metadata": {},
   "source": [
    "### Preprocessing"
   ]
  },
  {
   "cell_type": "code",
   "execution_count": 6,
   "metadata": {},
   "outputs": [],
   "source": [
    "train_full = train.merge(user_features, how='left', left_on='user_id', right_on='user_id')\n",
    "train_full = train_full.merge(item_features, how='left', left_on='item_id', right_on='item_id')"
   ]
  },
  {
   "cell_type": "code",
   "execution_count": 7,
   "metadata": {},
   "outputs": [
    {
     "data": {
      "text/html": [
       "<div>\n",
       "<style scoped>\n",
       "    .dataframe tbody tr th:only-of-type {\n",
       "        vertical-align: middle;\n",
       "    }\n",
       "\n",
       "    .dataframe tbody tr th {\n",
       "        vertical-align: top;\n",
       "    }\n",
       "\n",
       "    .dataframe thead th {\n",
       "        text-align: right;\n",
       "    }\n",
       "</style>\n",
       "<table border=\"1\" class=\"dataframe\">\n",
       "  <thead>\n",
       "    <tr style=\"text-align: right;\">\n",
       "      <th></th>\n",
       "      <th>user_id</th>\n",
       "      <th>item_id</th>\n",
       "      <th>like</th>\n",
       "      <th>timestamp</th>\n",
       "      <th>0_x</th>\n",
       "      <th>1_x</th>\n",
       "      <th>2_x</th>\n",
       "      <th>3_x</th>\n",
       "      <th>4_x</th>\n",
       "      <th>5_x</th>\n",
       "      <th>...</th>\n",
       "      <th>22_y</th>\n",
       "      <th>23_y</th>\n",
       "      <th>24_y</th>\n",
       "      <th>25_y</th>\n",
       "      <th>26_y</th>\n",
       "      <th>27_y</th>\n",
       "      <th>28_y</th>\n",
       "      <th>29_y</th>\n",
       "      <th>30_y</th>\n",
       "      <th>31_y</th>\n",
       "    </tr>\n",
       "  </thead>\n",
       "  <tbody>\n",
       "    <tr>\n",
       "      <th>0</th>\n",
       "      <td>140</td>\n",
       "      <td>342</td>\n",
       "      <td>0</td>\n",
       "      <td>1490936622</td>\n",
       "      <td>0.001300</td>\n",
       "      <td>-0.002943</td>\n",
       "      <td>-0.002750</td>\n",
       "      <td>0.003901</td>\n",
       "      <td>-0.000931</td>\n",
       "      <td>0.001282</td>\n",
       "      <td>...</td>\n",
       "      <td>-0.002098</td>\n",
       "      <td>-0.000349</td>\n",
       "      <td>0.000561</td>\n",
       "      <td>-0.000540</td>\n",
       "      <td>-0.000996</td>\n",
       "      <td>-0.000996</td>\n",
       "      <td>0.000211</td>\n",
       "      <td>-0.000584</td>\n",
       "      <td>-0.000584</td>\n",
       "      <td>0.000149</td>\n",
       "    </tr>\n",
       "    <tr>\n",
       "      <th>1</th>\n",
       "      <td>378</td>\n",
       "      <td>172</td>\n",
       "      <td>1</td>\n",
       "      <td>1490936628</td>\n",
       "      <td>0.003204</td>\n",
       "      <td>-0.007252</td>\n",
       "      <td>-0.006776</td>\n",
       "      <td>0.009613</td>\n",
       "      <td>-0.002295</td>\n",
       "      <td>0.003158</td>\n",
       "      <td>...</td>\n",
       "      <td>-0.013597</td>\n",
       "      <td>-0.002263</td>\n",
       "      <td>0.003634</td>\n",
       "      <td>-0.003498</td>\n",
       "      <td>-0.006457</td>\n",
       "      <td>-0.006457</td>\n",
       "      <td>0.001369</td>\n",
       "      <td>-0.003785</td>\n",
       "      <td>-0.003785</td>\n",
       "      <td>0.000964</td>\n",
       "    </tr>\n",
       "    <tr>\n",
       "      <th>2</th>\n",
       "      <td>150</td>\n",
       "      <td>182</td>\n",
       "      <td>0</td>\n",
       "      <td>1490936650</td>\n",
       "      <td>0.002554</td>\n",
       "      <td>-0.005780</td>\n",
       "      <td>-0.005401</td>\n",
       "      <td>0.007662</td>\n",
       "      <td>-0.001829</td>\n",
       "      <td>0.002517</td>\n",
       "      <td>...</td>\n",
       "      <td>-0.010278</td>\n",
       "      <td>-0.001710</td>\n",
       "      <td>0.002747</td>\n",
       "      <td>-0.002644</td>\n",
       "      <td>-0.004881</td>\n",
       "      <td>-0.004881</td>\n",
       "      <td>0.001035</td>\n",
       "      <td>-0.002861</td>\n",
       "      <td>-0.002861</td>\n",
       "      <td>0.000728</td>\n",
       "    </tr>\n",
       "    <tr>\n",
       "      <th>3</th>\n",
       "      <td>455</td>\n",
       "      <td>17</td>\n",
       "      <td>0</td>\n",
       "      <td>1490936704</td>\n",
       "      <td>0.004649</td>\n",
       "      <td>-0.010523</td>\n",
       "      <td>-0.009833</td>\n",
       "      <td>0.013950</td>\n",
       "      <td>-0.003330</td>\n",
       "      <td>0.004583</td>\n",
       "      <td>...</td>\n",
       "      <td>-0.013269</td>\n",
       "      <td>-0.002208</td>\n",
       "      <td>0.003546</td>\n",
       "      <td>-0.003414</td>\n",
       "      <td>-0.006301</td>\n",
       "      <td>-0.006301</td>\n",
       "      <td>0.001336</td>\n",
       "      <td>-0.003694</td>\n",
       "      <td>-0.003694</td>\n",
       "      <td>0.000940</td>\n",
       "    </tr>\n",
       "    <tr>\n",
       "      <th>4</th>\n",
       "      <td>350</td>\n",
       "      <td>409</td>\n",
       "      <td>0</td>\n",
       "      <td>1490936735</td>\n",
       "      <td>0.000919</td>\n",
       "      <td>-0.002081</td>\n",
       "      <td>-0.001944</td>\n",
       "      <td>0.002759</td>\n",
       "      <td>-0.000658</td>\n",
       "      <td>0.000906</td>\n",
       "      <td>...</td>\n",
       "      <td>-0.002967</td>\n",
       "      <td>-0.000494</td>\n",
       "      <td>0.000793</td>\n",
       "      <td>-0.000763</td>\n",
       "      <td>-0.001409</td>\n",
       "      <td>-0.001409</td>\n",
       "      <td>0.000299</td>\n",
       "      <td>-0.000826</td>\n",
       "      <td>-0.000826</td>\n",
       "      <td>0.000210</td>\n",
       "    </tr>\n",
       "    <tr>\n",
       "      <th>...</th>\n",
       "      <td>...</td>\n",
       "      <td>...</td>\n",
       "      <td>...</td>\n",
       "      <td>...</td>\n",
       "      <td>...</td>\n",
       "      <td>...</td>\n",
       "      <td>...</td>\n",
       "      <td>...</td>\n",
       "      <td>...</td>\n",
       "      <td>...</td>\n",
       "      <td>...</td>\n",
       "      <td>...</td>\n",
       "      <td>...</td>\n",
       "      <td>...</td>\n",
       "      <td>...</td>\n",
       "      <td>...</td>\n",
       "      <td>...</td>\n",
       "      <td>...</td>\n",
       "      <td>...</td>\n",
       "      <td>...</td>\n",
       "      <td>...</td>\n",
       "    </tr>\n",
       "    <tr>\n",
       "      <th>8669</th>\n",
       "      <td>161</td>\n",
       "      <td>312</td>\n",
       "      <td>0</td>\n",
       "      <td>1491215519</td>\n",
       "      <td>0.000602</td>\n",
       "      <td>-0.001362</td>\n",
       "      <td>-0.001273</td>\n",
       "      <td>0.001806</td>\n",
       "      <td>-0.000431</td>\n",
       "      <td>0.000593</td>\n",
       "      <td>...</td>\n",
       "      <td>-0.002098</td>\n",
       "      <td>-0.000349</td>\n",
       "      <td>0.000561</td>\n",
       "      <td>-0.000540</td>\n",
       "      <td>-0.000996</td>\n",
       "      <td>-0.000996</td>\n",
       "      <td>0.000211</td>\n",
       "      <td>-0.000584</td>\n",
       "      <td>-0.000584</td>\n",
       "      <td>0.000149</td>\n",
       "    </tr>\n",
       "    <tr>\n",
       "      <th>8670</th>\n",
       "      <td>406</td>\n",
       "      <td>208</td>\n",
       "      <td>0</td>\n",
       "      <td>1491215543</td>\n",
       "      <td>0.002357</td>\n",
       "      <td>-0.005335</td>\n",
       "      <td>-0.004985</td>\n",
       "      <td>0.007072</td>\n",
       "      <td>-0.001688</td>\n",
       "      <td>0.002323</td>\n",
       "      <td>...</td>\n",
       "      <td>-0.003634</td>\n",
       "      <td>-0.000605</td>\n",
       "      <td>0.000971</td>\n",
       "      <td>-0.000935</td>\n",
       "      <td>-0.001726</td>\n",
       "      <td>-0.001726</td>\n",
       "      <td>0.000366</td>\n",
       "      <td>-0.001012</td>\n",
       "      <td>-0.001012</td>\n",
       "      <td>0.000258</td>\n",
       "    </tr>\n",
       "    <tr>\n",
       "      <th>8671</th>\n",
       "      <td>196</td>\n",
       "      <td>43</td>\n",
       "      <td>0</td>\n",
       "      <td>1491215576</td>\n",
       "      <td>0.001667</td>\n",
       "      <td>-0.003772</td>\n",
       "      <td>-0.003525</td>\n",
       "      <td>0.005001</td>\n",
       "      <td>-0.001194</td>\n",
       "      <td>0.001643</td>\n",
       "      <td>...</td>\n",
       "      <td>-0.008392</td>\n",
       "      <td>-0.001397</td>\n",
       "      <td>0.002243</td>\n",
       "      <td>-0.002159</td>\n",
       "      <td>-0.003985</td>\n",
       "      <td>-0.003985</td>\n",
       "      <td>0.000845</td>\n",
       "      <td>-0.002336</td>\n",
       "      <td>-0.002336</td>\n",
       "      <td>0.000595</td>\n",
       "    </tr>\n",
       "    <tr>\n",
       "      <th>8672</th>\n",
       "      <td>84</td>\n",
       "      <td>100</td>\n",
       "      <td>0</td>\n",
       "      <td>1491215579</td>\n",
       "      <td>0.001433</td>\n",
       "      <td>-0.003243</td>\n",
       "      <td>-0.003030</td>\n",
       "      <td>0.004299</td>\n",
       "      <td>-0.001026</td>\n",
       "      <td>0.001412</td>\n",
       "      <td>...</td>\n",
       "      <td>-0.007268</td>\n",
       "      <td>-0.001209</td>\n",
       "      <td>0.001942</td>\n",
       "      <td>-0.001870</td>\n",
       "      <td>-0.003451</td>\n",
       "      <td>-0.003451</td>\n",
       "      <td>0.000732</td>\n",
       "      <td>-0.002023</td>\n",
       "      <td>-0.002023</td>\n",
       "      <td>0.000515</td>\n",
       "    </tr>\n",
       "    <tr>\n",
       "      <th>8673</th>\n",
       "      <td>48</td>\n",
       "      <td>75</td>\n",
       "      <td>0</td>\n",
       "      <td>1491215595</td>\n",
       "      <td>0.000919</td>\n",
       "      <td>-0.002081</td>\n",
       "      <td>-0.001944</td>\n",
       "      <td>0.002759</td>\n",
       "      <td>-0.000658</td>\n",
       "      <td>0.000906</td>\n",
       "      <td>...</td>\n",
       "      <td>-0.007268</td>\n",
       "      <td>-0.001209</td>\n",
       "      <td>0.001942</td>\n",
       "      <td>-0.001870</td>\n",
       "      <td>-0.003451</td>\n",
       "      <td>-0.003451</td>\n",
       "      <td>0.000732</td>\n",
       "      <td>-0.002023</td>\n",
       "      <td>-0.002023</td>\n",
       "      <td>0.000515</td>\n",
       "    </tr>\n",
       "  </tbody>\n",
       "</table>\n",
       "<p>8674 rows × 68 columns</p>\n",
       "</div>"
      ],
      "text/plain": [
       "      user_id  item_id  like   timestamp       0_x       1_x       2_x  \\\n",
       "0         140      342     0  1490936622  0.001300 -0.002943 -0.002750   \n",
       "1         378      172     1  1490936628  0.003204 -0.007252 -0.006776   \n",
       "2         150      182     0  1490936650  0.002554 -0.005780 -0.005401   \n",
       "3         455       17     0  1490936704  0.004649 -0.010523 -0.009833   \n",
       "4         350      409     0  1490936735  0.000919 -0.002081 -0.001944   \n",
       "...       ...      ...   ...         ...       ...       ...       ...   \n",
       "8669      161      312     0  1491215519  0.000602 -0.001362 -0.001273   \n",
       "8670      406      208     0  1491215543  0.002357 -0.005335 -0.004985   \n",
       "8671      196       43     0  1491215576  0.001667 -0.003772 -0.003525   \n",
       "8672       84      100     0  1491215579  0.001433 -0.003243 -0.003030   \n",
       "8673       48       75     0  1491215595  0.000919 -0.002081 -0.001944   \n",
       "\n",
       "           3_x       4_x       5_x  ...      22_y      23_y      24_y  \\\n",
       "0     0.003901 -0.000931  0.001282  ... -0.002098 -0.000349  0.000561   \n",
       "1     0.009613 -0.002295  0.003158  ... -0.013597 -0.002263  0.003634   \n",
       "2     0.007662 -0.001829  0.002517  ... -0.010278 -0.001710  0.002747   \n",
       "3     0.013950 -0.003330  0.004583  ... -0.013269 -0.002208  0.003546   \n",
       "4     0.002759 -0.000658  0.000906  ... -0.002967 -0.000494  0.000793   \n",
       "...        ...       ...       ...  ...       ...       ...       ...   \n",
       "8669  0.001806 -0.000431  0.000593  ... -0.002098 -0.000349  0.000561   \n",
       "8670  0.007072 -0.001688  0.002323  ... -0.003634 -0.000605  0.000971   \n",
       "8671  0.005001 -0.001194  0.001643  ... -0.008392 -0.001397  0.002243   \n",
       "8672  0.004299 -0.001026  0.001412  ... -0.007268 -0.001209  0.001942   \n",
       "8673  0.002759 -0.000658  0.000906  ... -0.007268 -0.001209  0.001942   \n",
       "\n",
       "          25_y      26_y      27_y      28_y      29_y      30_y      31_y  \n",
       "0    -0.000540 -0.000996 -0.000996  0.000211 -0.000584 -0.000584  0.000149  \n",
       "1    -0.003498 -0.006457 -0.006457  0.001369 -0.003785 -0.003785  0.000964  \n",
       "2    -0.002644 -0.004881 -0.004881  0.001035 -0.002861 -0.002861  0.000728  \n",
       "3    -0.003414 -0.006301 -0.006301  0.001336 -0.003694 -0.003694  0.000940  \n",
       "4    -0.000763 -0.001409 -0.001409  0.000299 -0.000826 -0.000826  0.000210  \n",
       "...        ...       ...       ...       ...       ...       ...       ...  \n",
       "8669 -0.000540 -0.000996 -0.000996  0.000211 -0.000584 -0.000584  0.000149  \n",
       "8670 -0.000935 -0.001726 -0.001726  0.000366 -0.001012 -0.001012  0.000258  \n",
       "8671 -0.002159 -0.003985 -0.003985  0.000845 -0.002336 -0.002336  0.000595  \n",
       "8672 -0.001870 -0.003451 -0.003451  0.000732 -0.002023 -0.002023  0.000515  \n",
       "8673 -0.001870 -0.003451 -0.003451  0.000732 -0.002023 -0.002023  0.000515  \n",
       "\n",
       "[8674 rows x 68 columns]"
      ]
     },
     "execution_count": 7,
     "metadata": {},
     "output_type": "execute_result"
    }
   ],
   "source": [
    "train_full"
   ]
  },
  {
   "cell_type": "markdown",
   "metadata": {},
   "source": [
    "### Feature Engineers"
   ]
  },
  {
   "cell_type": "code",
   "execution_count": 4,
   "metadata": {},
   "outputs": [],
   "source": [
    "# convert to datetime trains\n",
    "\n",
    "train_full['created'] = pd.to_datetime(train_full['timestamp'],unit='s')\n",
    "\n",
    "# create new date features\n",
    "\n",
    "train_full['created_month'] = train_full['created'].dt.month\n",
    "train_full['created_day'] = train_full['created'].dt.day\n",
    "train_full['created_dayofweek'] = train_full['created'].dt.dayofweek\n",
    "train_full['created_hour'] = train_full['created'].dt.round('H').dt.hour\n",
    "\n",
    "def f(x):\n",
    "    if (x > 4) and (x <= 8):\n",
    "        return 'Early Morning'\n",
    "    elif (x > 8) and (x <= 12 ):\n",
    "        return 'Morning'\n",
    "    elif (x > 12) and (x <= 16):\n",
    "        return'Noon'\n",
    "    elif (x > 16) and (x <= 20) :\n",
    "        return 'Eve'\n",
    "    elif (x > 20) and (x <= 24):\n",
    "        return'Night'\n",
    "    elif (x <= 4):\n",
    "        return'Late Night'\n",
    "    \n",
    "    \n",
    "train_full['part_of_day'] = train_full['created_hour'].apply(f)\n",
    "\n",
    "# train_full = train_full.drop(['created', 'timestamp'], axis=1)\n",
    "\n",
    "# для One-Hot Encoding в pandas есть готовая функция - get_dummies. Особенно радует параметр dummy_na\n",
    "train_full = pd.get_dummies(train_full, columns=[ 'part_of_day',], dummy_na=True)\n",
    "\n",
    "# удалю окончательно колонку даты и времени нажатия на баннер\n",
    "train_full = train_full.drop(['created'], axis = 1)\n",
    "\n",
    "if train_full.part_of_day_nan.isnull().sum() == 0:\n",
    "    train_full = train_full.drop(['part_of_day_nan'], axis = 1)"
   ]
  },
  {
   "cell_type": "code",
   "execution_count": 5,
   "metadata": {},
   "outputs": [],
   "source": [
    "# convert to datetime test\n",
    "\n",
    "test['created'] = pd.to_datetime(test['timestamp'],unit='s')\n",
    "\n",
    "# create new date features\n",
    "\n",
    "test['created_month'] = test['created'].dt.month\n",
    "test['created_day'] = test['created'].dt.day\n",
    "test['created_dayofweek'] = test['created'].dt.dayofweek\n",
    "test['created_hour'] = test['created'].dt.round('H').dt.hour\n",
    "\n",
    "def f(x):\n",
    "    if (x > 4) and (x <= 8):\n",
    "        return 'Early Morning'\n",
    "    elif (x > 8) and (x <= 12 ):\n",
    "        return 'Morning'\n",
    "    elif (x > 12) and (x <= 16):\n",
    "        return'Noon'\n",
    "    elif (x > 16) and (x <= 20) :\n",
    "        return 'Eve'\n",
    "    elif (x > 20) and (x <= 24):\n",
    "        return'Night'\n",
    "    elif (x <= 4):\n",
    "        return'Late Night'\n",
    "    \n",
    "    \n",
    "test['part_of_day'] = test['created_hour'].apply(f)\n",
    "\n",
    "# train_full = train_full.drop(['created', 'timestamp'], axis=1)\n",
    "\n",
    "# для One-Hot Encoding в pandas есть готовая функция - get_dummies. Особенно радует параметр dummy_na\n",
    "test = pd.get_dummies(test, columns=[ 'part_of_day',], dummy_na=True)\n",
    "\n",
    "# удалю окончательно колонку даты и времени нажатия на баннер\n",
    "test = test.drop(['created'], axis = 1)\n",
    "\n",
    "if test.part_of_day_nan.isnull().sum() == 0:\n",
    "    test = test.drop(['part_of_day_nan'], axis = 1)"
   ]
  },
  {
   "cell_type": "code",
   "execution_count": 8,
   "metadata": {},
   "outputs": [
    {
     "data": {
      "text/plain": [
       "(497, 444)"
      ]
     },
     "execution_count": 8,
     "metadata": {},
     "output_type": "execute_result"
    }
   ],
   "source": [
    "banner_pivot=train_full.pivot(index='user_id',columns='item_id',values='like')\n",
    "banner_pivot=banner_pivot.fillna(0)\n",
    "banner_pivot.shape"
   ]
  },
  {
   "cell_type": "code",
   "execution_count": 7,
   "metadata": {
    "scrolled": true
   },
   "outputs": [
    {
     "name": "stdout",
     "output_type": "stream",
     "text": [
      "<class 'pandas.core.frame.DataFrame'>\n",
      "Int64Index: 497 entries, 0 to 496\n",
      "Columns: 444 entries, 0 to 443\n",
      "dtypes: float64(444)\n",
      "memory usage: 1.7 MB\n"
     ]
    }
   ],
   "source": [
    "sparse_matrix = train_full.pivot(index='user_id',columns='item_id',values='like')\n",
    "sparse_matrix = sparse_matrix.fillna(0)\n",
    "sparse_matrix.info()"
   ]
  },
  {
   "cell_type": "code",
   "execution_count": 10,
   "metadata": {
    "scrolled": true
   },
   "outputs": [
    {
     "ename": "NameError",
     "evalue": "name 'csr_matrix' is not defined",
     "output_type": "error",
     "traceback": [
      "\u001b[1;31m---------------------------------------------------------------------------\u001b[0m",
      "\u001b[1;31mNameError\u001b[0m                                 Traceback (most recent call last)",
      "\u001b[1;32m<ipython-input-10-ac9a28b90d3b>\u001b[0m in \u001b[0;36m<module>\u001b[1;34m\u001b[0m\n\u001b[1;32m----> 1\u001b[1;33m \u001b[0msparse_matrix_sparse\u001b[0m \u001b[1;33m=\u001b[0m \u001b[0mcsr_matrix\u001b[0m\u001b[1;33m(\u001b[0m\u001b[0msparse_matrix\u001b[0m\u001b[1;33m.\u001b[0m\u001b[0mvalues\u001b[0m\u001b[1;33m)\u001b[0m\u001b[1;33m\u001b[0m\u001b[1;33m\u001b[0m\u001b[0m\n\u001b[0m\u001b[0;32m      2\u001b[0m \u001b[0msparse_matrix_sparse\u001b[0m\u001b[1;33m\u001b[0m\u001b[1;33m\u001b[0m\u001b[0m\n",
      "\u001b[1;31mNameError\u001b[0m: name 'csr_matrix' is not defined"
     ]
    }
   ],
   "source": [
    "# sparse_matrix_sparse = csr_matrix(sparse_matrix.values)\n",
    "# sparse_matrix_sparse"
   ]
  },
  {
   "cell_type": "code",
   "execution_count": 8,
   "metadata": {
    "scrolled": true
   },
   "outputs": [],
   "source": [
    "# The implicit library expects data as a item-user matrix so we\n",
    "# create two matricies, one for fitting the model (item-user) \n",
    "# and one for recommendations (user-item)\n",
    "sparse_item_user = sparse.csr_matrix((train_full['like'].astype(float), (train_full['item_id'], train_full['user_id'])))\n",
    "sparse_user_item = sparse.csr_matrix((train_full['like'].astype(float), (train_full['user_id'], train_full['item_id'])))"
   ]
  },
  {
   "cell_type": "code",
   "execution_count": 9,
   "metadata": {},
   "outputs": [
    {
     "data": {
      "text/plain": [
       "<497x444 sparse matrix of type '<class 'numpy.float64'>'\n",
       "\twith 8674 stored elements in Compressed Sparse Row format>"
      ]
     },
     "execution_count": 9,
     "metadata": {},
     "output_type": "execute_result"
    }
   ],
   "source": [
    "sparse_user_item"
   ]
  },
  {
   "cell_type": "markdown",
   "metadata": {},
   "source": [
    "### Model"
   ]
  },
  {
   "cell_type": "code",
   "execution_count": 13,
   "metadata": {},
   "outputs": [
    {
     "data": {
      "application/vnd.jupyter.widget-view+json": {
       "model_id": "784826216cee4d6594bc5d3ebe93eb27",
       "version_major": 2,
       "version_minor": 0
      },
      "text/plain": [
       "HBox(children=(FloatProgress(value=0.0, max=40.0), HTML(value='')))"
      ]
     },
     "metadata": {},
     "output_type": "display_data"
    },
    {
     "name": "stdout",
     "output_type": "stream",
     "text": [
      "\n"
     ]
    }
   ],
   "source": [
    "# Initialize the als model and fit it using the sparse item-user matrix\n",
    "model = implicit.als.AlternatingLeastSquares(factors=1, regularization=0.01, iterations=40)\n",
    "\n",
    "# Calculate the confidence by multiplying it by our alpha value.\n",
    "alpha_val = 15\n",
    "data_conf = (sparse_item_user * alpha_val).astype('double')\n",
    "\n",
    "#Fit the model\n",
    "model.fit(data_conf)  \n",
    "\n"
   ]
  },
  {
   "cell_type": "markdown",
   "metadata": {},
   "source": [
    "### Find Similar Items"
   ]
  },
  {
   "cell_type": "code",
   "execution_count": 91,
   "metadata": {
    "scrolled": true
   },
   "outputs": [
    {
     "name": "stdout",
     "output_type": "stream",
     "text": [
      "400\n",
      "304\n",
      "382\n",
      "292\n",
      "287\n",
      "308\n",
      "290\n",
      "286\n",
      "396\n",
      "330\n",
      "406\n",
      "393\n",
      "440\n",
      "428\n",
      "441\n",
      "379\n",
      "288\n",
      "327\n",
      "244\n",
      "340\n"
     ]
    }
   ],
   "source": [
    "#---------------------\n",
    "# FIND SIMILAR ITEMS\n",
    "#---------------------\n",
    "\n",
    "# Find the 10 most similar\n",
    "item_id = 400\n",
    "n_similar = 20\n",
    "\n",
    "# Use implicit to get similar items.\n",
    "similar = model.similar_items(item_id, n_similar)\n",
    "\n",
    "# Print the names of our most similar artists\n",
    "for item in similar:\n",
    "    idx, score = item\n",
    "    print(train_full.item_id.loc[train_full.item_id == idx].iloc[0])\n"
   ]
  },
  {
   "cell_type": "markdown",
   "metadata": {},
   "source": [
    "### Recommendations"
   ]
  },
  {
   "cell_type": "code",
   "execution_count": 14,
   "metadata": {
    "scrolled": false
   },
   "outputs": [
    {
     "name": "stdout",
     "output_type": "stream",
     "text": [
      "      0   1   2   3   4   5   6   7   8   9   10   11   12  13  14   15   16  \\\n",
      "166  76  22  35  72  40  80  37  58  65  66   11   32   21   5  60   87  146   \n",
      "26   76  22  35  72  40  80  37  58  65  66   11   67   32  21   5   60   87   \n",
      "41   76  22  35  72  40  80  37  58  65  66   11   67   32  21   5   60   87   \n",
      "286  76  22  35  72  80  37  58  65  66  11   67   32   21   5  60   87  146   \n",
      "108  76  22  35  72  40  80  37  58  66  11   67   32   21   5  60   87  146   \n",
      "..   ..  ..  ..  ..  ..  ..  ..  ..  ..  ..  ...  ...  ...  ..  ..  ...  ...   \n",
      "190  76  35  37  65  66  32  21   5  60  87  146  119   33  36  70   30  147   \n",
      "181  76  22  35  72  40  80  37  58  65  66   11   67   32  21   5   60  146   \n",
      "448  76  22  35  72  37  58  65  66  67  32   21   60   87   7  33   17   36   \n",
      "124  76  22  35  72  40  80  58  65  66  11   67   32   21   5  87  146    7   \n",
      "167  22  40  80  37  58  66  11  21   5  60   87  146  119  78  33  172  147   \n",
      "\n",
      "      17   18   19  \n",
      "166    7   44  119  \n",
      "26   146    7   44  \n",
      "41   146   44  119  \n",
      "286    7   44  119  \n",
      "108    7   44  119  \n",
      "..   ...  ...  ...  \n",
      "190   59   19   71  \n",
      "181    7   44  119  \n",
      "448   70  155   30  \n",
      "124   44  119   78  \n",
      "167   88   59   19  \n",
      "\n",
      "[497 rows x 20 columns]\n"
     ]
    }
   ],
   "source": [
    "#------------------------------\n",
    "# CREATE USER RECOMMENDATIONS\n",
    "#------------------------------\n",
    "\n",
    "recommendations = {}\n",
    "\n",
    "# Create recommendations for user\n",
    "for u in test['user_id']:\n",
    "# for u in range(2):\n",
    "    \n",
    "    user_id = u\n",
    "\n",
    "    # Use the implicit recommender.\n",
    "    recommended = model.recommend(user_id, sparse_user_item, 20)\n",
    "\n",
    "    item_id = []\n",
    "    scores = []\n",
    "\n",
    "    # Get artist names from ids\n",
    "    for item in recommended:\n",
    "        idx, score = item\n",
    "        item_id.append(train_full.item_id.loc[train_full.item_id == idx].iloc[0])\n",
    "        scores.append(score)\n",
    "\n",
    "    # Create a dataframe of artist names and scores\n",
    "    # recommendations = pd.DataFrame({'user_id': user_id, 'item_id': item_id, 'score': scores})\n",
    "    recommendations.update({user_id: item_id})\n",
    "\n",
    "\n",
    "rec_df = pd.DataFrame.from_dict(recommendations)\n",
    "    \n",
    "print(rec_df.T)\n"
   ]
  },
  {
   "cell_type": "code",
   "execution_count": 15,
   "metadata": {},
   "outputs": [],
   "source": [
    "# Экспорт предсказаний в csv\n",
    "pd.DataFrame(rec_df.T).to_csv('input/out.csv', index=True)"
   ]
  }
 ],
 "metadata": {
  "kernelspec": {
   "display_name": "Python 3",
   "language": "python",
   "name": "python3"
  },
  "language_info": {
   "codemirror_mode": {
    "name": "ipython",
    "version": 3
   },
   "file_extension": ".py",
   "mimetype": "text/x-python",
   "name": "python",
   "nbconvert_exporter": "python",
   "pygments_lexer": "ipython3",
   "version": "3.8.3"
  }
 },
 "nbformat": 4,
 "nbformat_minor": 4
}
