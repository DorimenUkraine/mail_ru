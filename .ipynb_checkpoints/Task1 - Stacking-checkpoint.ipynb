{
 "cells": [
  {
   "cell_type": "code",
   "execution_count": 2,
   "metadata": {},
   "outputs": [],
   "source": [
    "import pandas as pd\n",
    "import numpy as np\n",
    "\n",
    "from sklearn.ensemble import (AdaBoostClassifier, GradientBoostingClassifier,\n",
    "                              RandomForestClassifier, ExtraTreesClassifier)\n",
    "from sklearn.linear_model import LogisticRegression\n",
    "from sklearn.tree import DecisionTreeClassifier\n",
    "from sklearn.base import clone\n",
    "from sklearn.neighbors import KNeighborsClassifier\n",
    "\n",
    "from sklearn.model_selection import train_test_split, KFold, StratifiedKFold\n",
    "from sklearn.metrics import f1_score\n",
    "from sklearn.datasets import load_digits\n",
    "\n",
    "from sklearn.preprocessing import StandardScaler\n",
    "\n",
    "from tqdm import tqdm\n",
    "\n",
    "from sklearn.model_selection import RandomizedSearchCV\n",
    "from scipy.stats.distributions import randint\n",
    "\n",
    "%matplotlib inline"
   ]
  },
  {
   "cell_type": "code",
   "execution_count": 40,
   "metadata": {},
   "outputs": [],
   "source": [
    "train = pd.read_csv('input/train.csv')\n",
    "test = pd.read_csv('input/test.csv')\n",
    "train_target = pd.read_csv('input/train-target.csv')"
   ]
  },
  {
   "cell_type": "code",
   "execution_count": 41,
   "metadata": {},
   "outputs": [],
   "source": [
    "data = train.merge(train_target, how='left', left_index=True, right_index=True)"
   ]
  },
  {
   "cell_type": "code",
   "execution_count": 41,
   "metadata": {},
   "outputs": [],
   "source": [
    "# data = data.drop(data.columns[[17, 22, 7, 9]], axis='columns')"
   ]
  },
  {
   "cell_type": "code",
   "execution_count": 42,
   "metadata": {
    "scrolled": true
   },
   "outputs": [
    {
     "name": "stdout",
     "output_type": "stream",
     "text": [
      "<class 'pandas.core.frame.DataFrame'>\n",
      "RangeIndex: 9999 entries, 0 to 9998\n",
      "Data columns (total 31 columns):\n",
      " #   Column               Non-Null Count  Dtype  \n",
      "---  ------               --------------  -----  \n",
      " 0   -220.53052981117037  9999 non-null   float64\n",
      " 1   -70.19744010822103   9999 non-null   float64\n",
      " 2   119.03518124257707   9999 non-null   float64\n",
      " 3   20.711737029432243   9999 non-null   float64\n",
      " 4   -6.152985812887686   9999 non-null   float64\n",
      " 5   52.22505145235192    9999 non-null   float64\n",
      " 6   -23.23090327838962   9999 non-null   float64\n",
      " 7   -166.52187139825747  9999 non-null   float64\n",
      " 8   -41.57146270993908   9999 non-null   float64\n",
      " 9   2.620401107622818    9999 non-null   float64\n",
      " 10  271.29225068198326   9999 non-null   float64\n",
      " 11  2.695313032368222    9999 non-null   float64\n",
      " 12  44.529272411508465   9999 non-null   float64\n",
      " 13  12.998665666664078   9999 non-null   float64\n",
      " 14  25.157747922290945   9999 non-null   float64\n",
      " 15  2.1929308458742383   9999 non-null   float64\n",
      " 16  3.4385284455750265   9999 non-null   float64\n",
      " 17  -81.6842134661565    9999 non-null   float64\n",
      " 18  49.56698187271387    9999 non-null   float64\n",
      " 19  -36.81856627297526   9999 non-null   float64\n",
      " 20  16.93642041046429    9999 non-null   float64\n",
      " 21  46.54358453841927    9999 non-null   float64\n",
      " 22  -80.96217131632008   9999 non-null   float64\n",
      " 23  -146.65221819511046  9999 non-null   float64\n",
      " 24  10.899084620696035   9999 non-null   float64\n",
      " 25  4.370984578313747    9999 non-null   float64\n",
      " 26  4.060271578238659    9999 non-null   float64\n",
      " 27  40.68088991776954    9999 non-null   float64\n",
      " 28  -37.94265512724697   9999 non-null   float64\n",
      " 29  33.83822486571413    9999 non-null   float64\n",
      " 30  1                    9999 non-null   int64  \n",
      "dtypes: float64(30), int64(1)\n",
      "memory usage: 2.4 MB\n"
     ]
    }
   ],
   "source": [
    "data.info()"
   ]
  },
  {
   "cell_type": "code",
   "execution_count": 43,
   "metadata": {},
   "outputs": [
    {
     "name": "stdout",
     "output_type": "stream",
     "text": [
      "<class 'pandas.core.frame.DataFrame'>\n",
      "RangeIndex: 1999 entries, 0 to 1998\n",
      "Data columns (total 30 columns):\n",
      " #   Column               Non-Null Count  Dtype  \n",
      "---  ------               --------------  -----  \n",
      " 0   394.6501011051649    1999 non-null   float64\n",
      " 1   -102.77870316520904  1999 non-null   float64\n",
      " 2   -48.85441624865759   1999 non-null   float64\n",
      " 3   17.463192877435528   1999 non-null   float64\n",
      " 4   4.744213702269446    1999 non-null   float64\n",
      " 5   -90.50426012325909   1999 non-null   float64\n",
      " 6   135.11115704308136   1999 non-null   float64\n",
      " 7   -27.69150666378761   1999 non-null   float64\n",
      " 8   192.96106701515134   1999 non-null   float64\n",
      " 9   1.7552008501822347   1999 non-null   float64\n",
      " 10  -213.13915721676628  1999 non-null   float64\n",
      " 11  -1.3710319536768727  1999 non-null   float64\n",
      " 12  167.22089608432248   1999 non-null   float64\n",
      " 13  -438.69727282201205  1999 non-null   float64\n",
      " 14  117.77672571288579   1999 non-null   float64\n",
      " 15  2.678264119491712    1999 non-null   float64\n",
      " 16  2.3362494445239728   1999 non-null   float64\n",
      " 17  2.0986113182858963   1999 non-null   float64\n",
      " 18  -131.89300315955606  1999 non-null   float64\n",
      " 19  439.38612628926154   1999 non-null   float64\n",
      " 20  -56.94716493248796   1999 non-null   float64\n",
      " 21  140.95250626422802   1999 non-null   float64\n",
      " 22  1.885744004554318    1999 non-null   float64\n",
      " 23  11.48308573003449    1999 non-null   float64\n",
      " 24  -131.66513217661793  1999 non-null   float64\n",
      " 25  12.876561201764192   1999 non-null   float64\n",
      " 26  0.15674658944486475  1999 non-null   float64\n",
      " 27  -185.8490954610653   1999 non-null   float64\n",
      " 28  -29.31471076141153   1999 non-null   float64\n",
      " 29  -84.2544408988734    1999 non-null   float64\n",
      "dtypes: float64(30)\n",
      "memory usage: 468.6 KB\n"
     ]
    }
   ],
   "source": [
    "test.info()"
   ]
  },
  {
   "cell_type": "code",
   "execution_count": 44,
   "metadata": {},
   "outputs": [],
   "source": [
    "y = data['1'].values            # наш таргет\n",
    "X = data.drop(['1'], axis=1)"
   ]
  },
  {
   "cell_type": "code",
   "execution_count": 45,
   "metadata": {},
   "outputs": [],
   "source": [
    "X_train, X_test, y_train, y_test = train_test_split(X, y, random_state=42, test_size=0.2)"
   ]
  },
  {
   "cell_type": "code",
   "execution_count": 46,
   "metadata": {},
   "outputs": [
    {
     "data": {
      "text/plain": [
       "((7999, 30), (2000, 30), (7999,), (2000,))"
      ]
     },
     "execution_count": 46,
     "metadata": {},
     "output_type": "execute_result"
    }
   ],
   "source": [
    "X_train.shape, X_test.shape, y_train.shape, y_test.shape "
   ]
  },
  {
   "cell_type": "code",
   "execution_count": 47,
   "metadata": {},
   "outputs": [],
   "source": [
    "def compute_meta_feature(clf, X_train, X_test, y_train, cv):\n",
    "    \n",
    "    n_classes = len(np.unique(y_train))\n",
    "    X_meta_train = np.zeros((len(y_train), n_classes), dtype=np.float32)\n",
    "\n",
    "    splits = cv.split(X_train)\n",
    "    for train_fold_index, predict_fold_index in splits:\n",
    "        X_fold_train, X_fold_predict = X_train[train_fold_index], X_train[predict_fold_index]\n",
    "        y_fold_train = y_train[train_fold_index]\n",
    "        \n",
    "        folded_clf = clone(clf)\n",
    "        folded_clf.fit(X_fold_train, y_fold_train)\n",
    "        \n",
    "        X_meta_train[predict_fold_index] = folded_clf.predict_proba(X_fold_predict)\n",
    "    \n",
    "    meta_clf = clone(clf)\n",
    "    meta_clf.fit(X_train, y_train)\n",
    "    \n",
    "    X_meta_test = meta_clf.predict_proba(X_test)\n",
    "    \n",
    "    return X_meta_train, X_meta_test"
   ]
  },
  {
   "cell_type": "code",
   "execution_count": 48,
   "metadata": {},
   "outputs": [],
   "source": [
    "def generate_meta_features(classifiers, X_train, X_test, y_train, cv):\n",
    "   \n",
    "    features = [\n",
    "        compute_meta_feature(clf, X_train, X_test, y_train, cv)\n",
    "        for clf in tqdm(classifiers)\n",
    "    ]\n",
    "    \n",
    "    stacked_features_train = np.hstack([\n",
    "        features_train for features_train, features_test in features\n",
    "    ])\n",
    "\n",
    "    stacked_features_test = np.hstack([\n",
    "        features_test for features_train, features_test in features\n",
    "    ])\n",
    "    \n",
    "    return stacked_features_train, stacked_features_test"
   ]
  },
  {
   "cell_type": "code",
   "execution_count": 51,
   "metadata": {},
   "outputs": [],
   "source": [
    "cv = KFold(n_splits=10, shuffle=True, random_state=42)"
   ]
  },
  {
   "cell_type": "code",
   "execution_count": 52,
   "metadata": {},
   "outputs": [],
   "source": [
    "def compute_metric(clf, X_train=X_train, y_train=y_train, X_test=X_test):\n",
    "    clf.fit(X_train, y_train)\n",
    "    y_test_pred = clf.predict(X_test)\n",
    "    return np.round(f1_score(y_test, y_test_pred, average='macro'), 6), y_test_pred, y_test_pred.shape"
   ]
  },
  {
   "cell_type": "code",
   "execution_count": 53,
   "metadata": {},
   "outputs": [],
   "source": [
    "# стандартизируем данные\n",
    "scaler = StandardScaler()\n",
    "X_train = scaler.fit_transform(X_train)\n",
    "X_test = scaler.transform(X_test)"
   ]
  },
  {
   "cell_type": "code",
   "execution_count": 54,
   "metadata": {},
   "outputs": [
    {
     "name": "stderr",
     "output_type": "stream",
     "text": [
      "\n",
      "  0%|                                                                                            | 0/4 [00:00<?, ?it/s]\u001b[A\n",
      " 25%|█████████████████████                                                               | 1/4 [00:00<00:01,  1.86it/s]\u001b[A\n",
      " 50%|██████████████████████████████████████████                                          | 2/4 [00:01<00:01,  1.56it/s]\u001b[A\n",
      " 75%|███████████████████████████████████████████████████████████████                     | 3/4 [00:38<00:11, 11.68s/it]\u001b[A\n",
      "100%|████████████████████████████████████████████████████████████████████████████████████| 4/4 [00:58<00:00, 14.52s/it]\u001b[A\n"
     ]
    }
   ],
   "source": [
    "# выбираем какие алгоритмы будем применять для модели\n",
    "stack_future_train, stack_future_test = generate_meta_features([\n",
    "    LogisticRegression(C=0.001, penalty='l2', solver='saga', max_iter=2000, multi_class='ovr'),\n",
    "    LogisticRegression(C=0.001, penalty='l2', solver='saga', max_iter=2000, multi_class='multinomial'),\n",
    "    RandomForestClassifier(n_estimators=300),\n",
    "    GradientBoostingClassifier(n_estimators=200)\n",
    "], X_train, X_test, y_train, cv)"
   ]
  },
  {
   "cell_type": "code",
   "execution_count": 26,
   "metadata": {},
   "outputs": [],
   "source": [
    "total_features_train = np.hstack([X_train, stack_future_train])\n",
    "total_features_test = np.hstack([X_test, stack_future_test])"
   ]
  },
  {
   "cell_type": "code",
   "execution_count": 27,
   "metadata": {
    "scrolled": true
   },
   "outputs": [
    {
     "data": {
      "text/plain": [
       "LogisticRegression(C=1.0, class_weight=None, dual=False, fit_intercept=True,\n",
       "                   intercept_scaling=1, l1_ratio=None, max_iter=100,\n",
       "                   multi_class='auto', n_jobs=None, penalty='none',\n",
       "                   random_state=None, solver='lbfgs', tol=0.0001, verbose=0,\n",
       "                   warm_start=False)"
      ]
     },
     "execution_count": 27,
     "metadata": {},
     "output_type": "execute_result"
    }
   ],
   "source": [
    "# Строим мета-алгоритм\n",
    "clf = LogisticRegression(penalty='none', solver='lbfgs', multi_class='auto')\n",
    "clf.fit(stack_future_train, y_train)"
   ]
  },
  {
   "cell_type": "code",
   "execution_count": 39,
   "metadata": {},
   "outputs": [
    {
     "data": {
      "text/plain": [
       "(1.0, array([0, 1, 1, ..., 0, 1, 0], dtype=int64), (2000,))"
      ]
     },
     "execution_count": 39,
     "metadata": {},
     "output_type": "execute_result"
    }
   ],
   "source": [
    "compute_metric(clf, X_train=stack_future_train,X_test=stack_future_test, y_train=y_train)"
   ]
  },
  {
   "cell_type": "code",
   "execution_count": 35,
   "metadata": {
    "scrolled": true
   },
   "outputs": [
    {
     "ename": "ValueError",
     "evalue": "X has 30 features per sample; expecting 8",
     "output_type": "error",
     "traceback": [
      "\u001b[1;31m---------------------------------------------------------------------------\u001b[0m",
      "\u001b[1;31mValueError\u001b[0m                                Traceback (most recent call last)",
      "\u001b[1;32m<ipython-input-35-b01edbc86911>\u001b[0m in \u001b[0;36m<module>\u001b[1;34m\u001b[0m\n\u001b[1;32m----> 1\u001b[1;33m \u001b[0my_pred\u001b[0m \u001b[1;33m=\u001b[0m \u001b[0mclf\u001b[0m\u001b[1;33m.\u001b[0m\u001b[0mpredict\u001b[0m\u001b[1;33m(\u001b[0m\u001b[0mtest\u001b[0m\u001b[1;33m)\u001b[0m\u001b[1;33m\u001b[0m\u001b[1;33m\u001b[0m\u001b[0m\n\u001b[0m",
      "\u001b[1;32m~\\anaconda3\\lib\\site-packages\\sklearn\\linear_model\\_base.py\u001b[0m in \u001b[0;36mpredict\u001b[1;34m(self, X)\u001b[0m\n\u001b[0;32m    291\u001b[0m             \u001b[0mPredicted\u001b[0m \u001b[1;32mclass\u001b[0m \u001b[0mlabel\u001b[0m \u001b[0mper\u001b[0m \u001b[0msample\u001b[0m\u001b[1;33m.\u001b[0m\u001b[1;33m\u001b[0m\u001b[1;33m\u001b[0m\u001b[0m\n\u001b[0;32m    292\u001b[0m         \"\"\"\n\u001b[1;32m--> 293\u001b[1;33m         \u001b[0mscores\u001b[0m \u001b[1;33m=\u001b[0m \u001b[0mself\u001b[0m\u001b[1;33m.\u001b[0m\u001b[0mdecision_function\u001b[0m\u001b[1;33m(\u001b[0m\u001b[0mX\u001b[0m\u001b[1;33m)\u001b[0m\u001b[1;33m\u001b[0m\u001b[1;33m\u001b[0m\u001b[0m\n\u001b[0m\u001b[0;32m    294\u001b[0m         \u001b[1;32mif\u001b[0m \u001b[0mlen\u001b[0m\u001b[1;33m(\u001b[0m\u001b[0mscores\u001b[0m\u001b[1;33m.\u001b[0m\u001b[0mshape\u001b[0m\u001b[1;33m)\u001b[0m \u001b[1;33m==\u001b[0m \u001b[1;36m1\u001b[0m\u001b[1;33m:\u001b[0m\u001b[1;33m\u001b[0m\u001b[1;33m\u001b[0m\u001b[0m\n\u001b[0;32m    295\u001b[0m             \u001b[0mindices\u001b[0m \u001b[1;33m=\u001b[0m \u001b[1;33m(\u001b[0m\u001b[0mscores\u001b[0m \u001b[1;33m>\u001b[0m \u001b[1;36m0\u001b[0m\u001b[1;33m)\u001b[0m\u001b[1;33m.\u001b[0m\u001b[0mastype\u001b[0m\u001b[1;33m(\u001b[0m\u001b[0mnp\u001b[0m\u001b[1;33m.\u001b[0m\u001b[0mint\u001b[0m\u001b[1;33m)\u001b[0m\u001b[1;33m\u001b[0m\u001b[1;33m\u001b[0m\u001b[0m\n",
      "\u001b[1;32m~\\anaconda3\\lib\\site-packages\\sklearn\\linear_model\\_base.py\u001b[0m in \u001b[0;36mdecision_function\u001b[1;34m(self, X)\u001b[0m\n\u001b[0;32m    271\u001b[0m         \u001b[1;32mif\u001b[0m \u001b[0mX\u001b[0m\u001b[1;33m.\u001b[0m\u001b[0mshape\u001b[0m\u001b[1;33m[\u001b[0m\u001b[1;36m1\u001b[0m\u001b[1;33m]\u001b[0m \u001b[1;33m!=\u001b[0m \u001b[0mn_features\u001b[0m\u001b[1;33m:\u001b[0m\u001b[1;33m\u001b[0m\u001b[1;33m\u001b[0m\u001b[0m\n\u001b[0;32m    272\u001b[0m             raise ValueError(\"X has %d features per sample; expecting %d\"\n\u001b[1;32m--> 273\u001b[1;33m                              % (X.shape[1], n_features))\n\u001b[0m\u001b[0;32m    274\u001b[0m \u001b[1;33m\u001b[0m\u001b[0m\n\u001b[0;32m    275\u001b[0m         scores = safe_sparse_dot(X, self.coef_.T,\n",
      "\u001b[1;31mValueError\u001b[0m: X has 30 features per sample; expecting 8"
     ]
    }
   ],
   "source": [
    "y_pred = clf.predict(test)"
   ]
  },
  {
   "cell_type": "code",
   "execution_count": 37,
   "metadata": {},
   "outputs": [
    {
     "name": "stdout",
     "output_type": "stream",
     "text": [
      "<class 'pandas.core.frame.DataFrame'>\n",
      "RangeIndex: 1999 entries, 0 to 1998\n",
      "Data columns (total 30 columns):\n",
      " #   Column               Non-Null Count  Dtype  \n",
      "---  ------               --------------  -----  \n",
      " 0   394.6501011051649    1999 non-null   float64\n",
      " 1   -102.77870316520904  1999 non-null   float64\n",
      " 2   -48.85441624865759   1999 non-null   float64\n",
      " 3   17.463192877435528   1999 non-null   float64\n",
      " 4   4.744213702269446    1999 non-null   float64\n",
      " 5   -90.50426012325909   1999 non-null   float64\n",
      " 6   135.11115704308136   1999 non-null   float64\n",
      " 7   -27.69150666378761   1999 non-null   float64\n",
      " 8   192.96106701515134   1999 non-null   float64\n",
      " 9   1.7552008501822347   1999 non-null   float64\n",
      " 10  -213.13915721676628  1999 non-null   float64\n",
      " 11  -1.3710319536768727  1999 non-null   float64\n",
      " 12  167.22089608432248   1999 non-null   float64\n",
      " 13  -438.69727282201205  1999 non-null   float64\n",
      " 14  117.77672571288579   1999 non-null   float64\n",
      " 15  2.678264119491712    1999 non-null   float64\n",
      " 16  2.3362494445239728   1999 non-null   float64\n",
      " 17  2.0986113182858963   1999 non-null   float64\n",
      " 18  -131.89300315955606  1999 non-null   float64\n",
      " 19  439.38612628926154   1999 non-null   float64\n",
      " 20  -56.94716493248796   1999 non-null   float64\n",
      " 21  140.95250626422802   1999 non-null   float64\n",
      " 22  1.885744004554318    1999 non-null   float64\n",
      " 23  11.48308573003449    1999 non-null   float64\n",
      " 24  -131.66513217661793  1999 non-null   float64\n",
      " 25  12.876561201764192   1999 non-null   float64\n",
      " 26  0.15674658944486475  1999 non-null   float64\n",
      " 27  -185.8490954610653   1999 non-null   float64\n",
      " 28  -29.31471076141153   1999 non-null   float64\n",
      " 29  -84.2544408988734    1999 non-null   float64\n",
      "dtypes: float64(30)\n",
      "memory usage: 468.6 KB\n"
     ]
    }
   ],
   "source": [
    "test.info()"
   ]
  },
  {
   "cell_type": "code",
   "execution_count": null,
   "metadata": {},
   "outputs": [],
   "source": [
    "submission = pd.DataFrame(y_pred)\n",
    "submission.to_csv('input/submission.csv', index=False)"
   ]
  }
 ],
 "metadata": {
  "kernelspec": {
   "display_name": "Python 3",
   "language": "python",
   "name": "python3"
  },
  "language_info": {
   "codemirror_mode": {
    "name": "ipython",
    "version": 3
   },
   "file_extension": ".py",
   "mimetype": "text/x-python",
   "name": "python",
   "nbconvert_exporter": "python",
   "pygments_lexer": "ipython3",
   "version": "3.7.7"
  }
 },
 "nbformat": 4,
 "nbformat_minor": 4
}
