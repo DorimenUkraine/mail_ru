{
 "cells": [
  {
   "cell_type": "markdown",
   "metadata": {},
   "source": [
    "В данном соревновании вам предстоит решить задачу бинарной классификации. Вам будут даны тренировочная (10000 примеров) и тестовая (2000) выборки. Количество признаков — 30.\n",
    "\n",
    "Для успешного решения данного задания вам предстоит правильно настроить валидацию, провести отбор признаков и подобрать параметры для итоговой модели.\n",
    "\n",
    "В результате, необходимо предсказать вероятности положительного класса для данных из тестовой выборки."
   ]
  },
  {
   "cell_type": "code",
   "execution_count": 30,
   "metadata": {},
   "outputs": [],
   "source": [
    "import numpy as np # linear algebra\n",
    "import pandas as pd # data processing, CSV file I/O (e.g. pd.read_csv)"
   ]
  },
  {
   "cell_type": "code",
   "execution_count": 31,
   "metadata": {},
   "outputs": [],
   "source": [
    "import seaborn as sns\n",
    "import matplotlib.pyplot as plt"
   ]
  },
  {
   "cell_type": "code",
   "execution_count": 32,
   "metadata": {},
   "outputs": [],
   "source": [
    "import warnings\n",
    "warnings.filterwarnings(\"ignore\")"
   ]
  },
  {
   "cell_type": "markdown",
   "metadata": {},
   "source": [
    "### Load data"
   ]
  },
  {
   "cell_type": "code",
   "execution_count": 33,
   "metadata": {},
   "outputs": [],
   "source": [
    "train = pd.read_csv('input/train.csv')\n",
    "test = pd.read_csv('input/test.csv')\n",
    "train_target = pd.read_csv('input/train-target.csv')"
   ]
  },
  {
   "cell_type": "code",
   "execution_count": 34,
   "metadata": {
    "scrolled": true
   },
   "outputs": [
    {
     "data": {
      "text/plain": [
       "((9999, 30), (1999, 30), (9999, 1))"
      ]
     },
     "execution_count": 34,
     "metadata": {},
     "output_type": "execute_result"
    }
   ],
   "source": [
    "train.shape, test.shape, train_target.shape"
   ]
  },
  {
   "cell_type": "code",
   "execution_count": 35,
   "metadata": {
    "scrolled": true
   },
   "outputs": [
    {
     "data": {
      "text/html": [
       "<div>\n",
       "<style scoped>\n",
       "    .dataframe tbody tr th:only-of-type {\n",
       "        vertical-align: middle;\n",
       "    }\n",
       "\n",
       "    .dataframe tbody tr th {\n",
       "        vertical-align: top;\n",
       "    }\n",
       "\n",
       "    .dataframe thead th {\n",
       "        text-align: right;\n",
       "    }\n",
       "</style>\n",
       "<table border=\"1\" class=\"dataframe\">\n",
       "  <thead>\n",
       "    <tr style=\"text-align: right;\">\n",
       "      <th></th>\n",
       "      <th>-220.53052981117037</th>\n",
       "      <th>-70.19744010822103</th>\n",
       "      <th>119.03518124257707</th>\n",
       "      <th>20.711737029432243</th>\n",
       "      <th>-6.152985812887686</th>\n",
       "      <th>52.22505145235192</th>\n",
       "      <th>-23.23090327838962</th>\n",
       "      <th>-166.52187139825747</th>\n",
       "      <th>-41.57146270993908</th>\n",
       "      <th>2.620401107622818</th>\n",
       "      <th>...</th>\n",
       "      <th>16.93642041046429</th>\n",
       "      <th>46.54358453841927</th>\n",
       "      <th>-80.96217131632008</th>\n",
       "      <th>-146.65221819511046</th>\n",
       "      <th>10.899084620696035</th>\n",
       "      <th>4.370984578313747</th>\n",
       "      <th>4.060271578238659</th>\n",
       "      <th>40.68088991776954</th>\n",
       "      <th>-37.94265512724697</th>\n",
       "      <th>33.83822486571413</th>\n",
       "    </tr>\n",
       "  </thead>\n",
       "  <tbody>\n",
       "    <tr>\n",
       "      <th>3808</th>\n",
       "      <td>-194.030051</td>\n",
       "      <td>123.580541</td>\n",
       "      <td>48.621729</td>\n",
       "      <td>4.278630</td>\n",
       "      <td>-3.683389</td>\n",
       "      <td>25.098504</td>\n",
       "      <td>50.709203</td>\n",
       "      <td>89.457960</td>\n",
       "      <td>-101.803754</td>\n",
       "      <td>0.071561</td>\n",
       "      <td>...</td>\n",
       "      <td>4.828774</td>\n",
       "      <td>43.517505</td>\n",
       "      <td>45.414084</td>\n",
       "      <td>-68.273884</td>\n",
       "      <td>21.673387</td>\n",
       "      <td>-7.939839</td>\n",
       "      <td>0.419294</td>\n",
       "      <td>15.373158</td>\n",
       "      <td>-31.540870</td>\n",
       "      <td>-30.334111</td>\n",
       "    </tr>\n",
       "    <tr>\n",
       "      <th>9983</th>\n",
       "      <td>156.254789</td>\n",
       "      <td>-47.545278</td>\n",
       "      <td>135.286996</td>\n",
       "      <td>-27.080387</td>\n",
       "      <td>-1.583505</td>\n",
       "      <td>100.440163</td>\n",
       "      <td>133.342178</td>\n",
       "      <td>55.366384</td>\n",
       "      <td>-277.678380</td>\n",
       "      <td>0.121079</td>\n",
       "      <td>...</td>\n",
       "      <td>-22.046577</td>\n",
       "      <td>49.184066</td>\n",
       "      <td>28.168291</td>\n",
       "      <td>60.285502</td>\n",
       "      <td>-9.519953</td>\n",
       "      <td>-4.794853</td>\n",
       "      <td>0.843675</td>\n",
       "      <td>-69.214097</td>\n",
       "      <td>422.403541</td>\n",
       "      <td>10.139504</td>\n",
       "    </tr>\n",
       "    <tr>\n",
       "      <th>6556</th>\n",
       "      <td>509.521813</td>\n",
       "      <td>39.860328</td>\n",
       "      <td>167.623165</td>\n",
       "      <td>49.713855</td>\n",
       "      <td>5.742101</td>\n",
       "      <td>-11.768308</td>\n",
       "      <td>-219.825269</td>\n",
       "      <td>73.689178</td>\n",
       "      <td>40.687404</td>\n",
       "      <td>0.132609</td>\n",
       "      <td>...</td>\n",
       "      <td>26.552400</td>\n",
       "      <td>-51.047083</td>\n",
       "      <td>37.737838</td>\n",
       "      <td>97.112044</td>\n",
       "      <td>36.614806</td>\n",
       "      <td>-5.270604</td>\n",
       "      <td>0.763146</td>\n",
       "      <td>-77.649661</td>\n",
       "      <td>175.447837</td>\n",
       "      <td>-37.596906</td>\n",
       "    </tr>\n",
       "    <tr>\n",
       "      <th>5919</th>\n",
       "      <td>820.661563</td>\n",
       "      <td>-42.777151</td>\n",
       "      <td>-2.259076</td>\n",
       "      <td>-7.833657</td>\n",
       "      <td>-1.824149</td>\n",
       "      <td>-224.941288</td>\n",
       "      <td>-19.275813</td>\n",
       "      <td>-243.850616</td>\n",
       "      <td>66.299267</td>\n",
       "      <td>0.058975</td>\n",
       "      <td>...</td>\n",
       "      <td>-47.216759</td>\n",
       "      <td>49.769082</td>\n",
       "      <td>-121.240815</td>\n",
       "      <td>-33.669394</td>\n",
       "      <td>116.886575</td>\n",
       "      <td>-9.785495</td>\n",
       "      <td>0.712954</td>\n",
       "      <td>-172.377499</td>\n",
       "      <td>51.231811</td>\n",
       "      <td>-199.131988</td>\n",
       "    </tr>\n",
       "    <tr>\n",
       "      <th>2064</th>\n",
       "      <td>-336.256369</td>\n",
       "      <td>-15.730294</td>\n",
       "      <td>95.324188</td>\n",
       "      <td>37.770861</td>\n",
       "      <td>2.378299</td>\n",
       "      <td>205.493437</td>\n",
       "      <td>44.342390</td>\n",
       "      <td>197.154286</td>\n",
       "      <td>-148.203872</td>\n",
       "      <td>2.583725</td>\n",
       "      <td>...</td>\n",
       "      <td>40.059454</td>\n",
       "      <td>-70.255490</td>\n",
       "      <td>100.564179</td>\n",
       "      <td>-13.565141</td>\n",
       "      <td>-78.173095</td>\n",
       "      <td>-6.783875</td>\n",
       "      <td>-0.346811</td>\n",
       "      <td>-4.341498</td>\n",
       "      <td>-95.409483</td>\n",
       "      <td>30.051388</td>\n",
       "    </tr>\n",
       "  </tbody>\n",
       "</table>\n",
       "<p>5 rows × 30 columns</p>\n",
       "</div>"
      ],
      "text/plain": [
       "      -220.53052981117037  -70.19744010822103  119.03518124257707  \\\n",
       "3808          -194.030051          123.580541           48.621729   \n",
       "9983           156.254789          -47.545278          135.286996   \n",
       "6556           509.521813           39.860328          167.623165   \n",
       "5919           820.661563          -42.777151           -2.259076   \n",
       "2064          -336.256369          -15.730294           95.324188   \n",
       "\n",
       "      20.711737029432243  -6.152985812887686  52.22505145235192  \\\n",
       "3808            4.278630           -3.683389          25.098504   \n",
       "9983          -27.080387           -1.583505         100.440163   \n",
       "6556           49.713855            5.742101         -11.768308   \n",
       "5919           -7.833657           -1.824149        -224.941288   \n",
       "2064           37.770861            2.378299         205.493437   \n",
       "\n",
       "      -23.23090327838962  -166.52187139825747  -41.57146270993908  \\\n",
       "3808           50.709203            89.457960         -101.803754   \n",
       "9983          133.342178            55.366384         -277.678380   \n",
       "6556         -219.825269            73.689178           40.687404   \n",
       "5919          -19.275813          -243.850616           66.299267   \n",
       "2064           44.342390           197.154286         -148.203872   \n",
       "\n",
       "      2.620401107622818  ...  16.93642041046429  46.54358453841927  \\\n",
       "3808           0.071561  ...           4.828774          43.517505   \n",
       "9983           0.121079  ...         -22.046577          49.184066   \n",
       "6556           0.132609  ...          26.552400         -51.047083   \n",
       "5919           0.058975  ...         -47.216759          49.769082   \n",
       "2064           2.583725  ...          40.059454         -70.255490   \n",
       "\n",
       "      -80.96217131632008  -146.65221819511046  10.899084620696035  \\\n",
       "3808           45.414084           -68.273884           21.673387   \n",
       "9983           28.168291            60.285502           -9.519953   \n",
       "6556           37.737838            97.112044           36.614806   \n",
       "5919         -121.240815           -33.669394          116.886575   \n",
       "2064          100.564179           -13.565141          -78.173095   \n",
       "\n",
       "      4.370984578313747  4.060271578238659  40.68088991776954  \\\n",
       "3808          -7.939839           0.419294          15.373158   \n",
       "9983          -4.794853           0.843675         -69.214097   \n",
       "6556          -5.270604           0.763146         -77.649661   \n",
       "5919          -9.785495           0.712954        -172.377499   \n",
       "2064          -6.783875          -0.346811          -4.341498   \n",
       "\n",
       "      -37.94265512724697  33.83822486571413  \n",
       "3808          -31.540870         -30.334111  \n",
       "9983          422.403541          10.139504  \n",
       "6556          175.447837         -37.596906  \n",
       "5919           51.231811        -199.131988  \n",
       "2064          -95.409483          30.051388  \n",
       "\n",
       "[5 rows x 30 columns]"
      ]
     },
     "execution_count": 35,
     "metadata": {},
     "output_type": "execute_result"
    }
   ],
   "source": [
    "train.sample(5)"
   ]
  },
  {
   "cell_type": "markdown",
   "metadata": {},
   "source": [
    "### Data Analize"
   ]
  },
  {
   "cell_type": "code",
   "execution_count": 36,
   "metadata": {},
   "outputs": [],
   "source": [
    "data = train.merge(train_target, how='left', left_index=True, right_index=True)"
   ]
  },
  {
   "cell_type": "code",
   "execution_count": 37,
   "metadata": {},
   "outputs": [
    {
     "data": {
      "text/plain": [
       "Text(0.5, 1.0, 'Histogram for default')"
      ]
     },
     "execution_count": 37,
     "metadata": {},
     "output_type": "execute_result"
    },
    {
     "data": {
      "image/png": "[encoded data removed]",
      "text/plain": [
       "<Figure size 432x288 with 1 Axes>"
      ]
     },
     "metadata": {
      "needs_background": "light"
     },
     "output_type": "display_data"
    }
   ],
   "source": [
    "sns.countplot(data['1'])\n",
    "plt.title('Histogram for default')"
   ]
  },
  {
   "cell_type": "markdown",
   "metadata": {},
   "source": [
    "Целевая переменная поделена поровну (сбалансирована)"
   ]
  },
  {
   "cell_type": "markdown",
   "metadata": {},
   "source": [
    "### Delete outliers"
   ]
  },
  {
   "cell_type": "code",
   "execution_count": 8,
   "metadata": {},
   "outputs": [],
   "source": [
    "data = data.drop(data.columns[[17, 22, 7, 9]], axis='columns')"
   ]
  },
  {
   "cell_type": "code",
   "execution_count": 11,
   "metadata": {},
   "outputs": [
    {
     "name": "stdout",
     "output_type": "stream",
     "text": [
      "Shape before: (9999, 27)\n",
      "Shape after: (6165, 27)\n"
     ]
    }
   ],
   "source": [
    "def delete_outliers(data, feature):\n",
    "    q1 = data[feature].quantile(0.25)\n",
    "    q3 = data[feature].quantile(0.75)\n",
    "    iqr = q3 - q1\n",
    "    fence_low = q1 - 1.5 * iqr\n",
    "    fence_high = q3 + 1.5 * iqr\n",
    "    data = data.loc[data[feature].between(fence_low, fence_high)]\n",
    "    return data\n",
    "print(f\"Shape before: {data.shape}\")\n",
    "\n",
    "for col in data.columns:\n",
    "    data = delete_outliers(data, col)\n",
    "print(f\"Shape after: {data.shape}\")"
   ]
  },
  {
   "cell_type": "markdown",
   "metadata": {},
   "source": [
    "### Data Split"
   ]
  },
  {
   "cell_type": "code",
   "execution_count": 38,
   "metadata": {},
   "outputs": [],
   "source": [
    "y = data['1'].values            # наш таргет\n",
    "X = data.drop(['1'], axis=1)"
   ]
  },
  {
   "cell_type": "code",
   "execution_count": 54,
   "metadata": {},
   "outputs": [
    {
     "data": {
      "text/html": [
       "<div>\n",
       "<style scoped>\n",
       "    .dataframe tbody tr th:only-of-type {\n",
       "        vertical-align: middle;\n",
       "    }\n",
       "\n",
       "    .dataframe tbody tr th {\n",
       "        vertical-align: top;\n",
       "    }\n",
       "\n",
       "    .dataframe thead th {\n",
       "        text-align: right;\n",
       "    }\n",
       "</style>\n",
       "<table border=\"1\" class=\"dataframe\">\n",
       "  <thead>\n",
       "    <tr style=\"text-align: right;\">\n",
       "      <th></th>\n",
       "      <th>-220.53052981117037</th>\n",
       "      <th>-70.19744010822103</th>\n",
       "      <th>119.03518124257707</th>\n",
       "      <th>20.711737029432243</th>\n",
       "      <th>-6.152985812887686</th>\n",
       "      <th>52.22505145235192</th>\n",
       "      <th>-23.23090327838962</th>\n",
       "      <th>-166.52187139825747</th>\n",
       "      <th>-41.57146270993908</th>\n",
       "      <th>2.620401107622818</th>\n",
       "      <th>...</th>\n",
       "      <th>16.93642041046429</th>\n",
       "      <th>46.54358453841927</th>\n",
       "      <th>-80.96217131632008</th>\n",
       "      <th>-146.65221819511046</th>\n",
       "      <th>10.899084620696035</th>\n",
       "      <th>4.370984578313747</th>\n",
       "      <th>4.060271578238659</th>\n",
       "      <th>40.68088991776954</th>\n",
       "      <th>-37.94265512724697</th>\n",
       "      <th>33.83822486571413</th>\n",
       "    </tr>\n",
       "  </thead>\n",
       "  <tbody>\n",
       "    <tr>\n",
       "      <th>0</th>\n",
       "      <td>-8.536541</td>\n",
       "      <td>-8.305435</td>\n",
       "      <td>-117.828269</td>\n",
       "      <td>-28.588333</td>\n",
       "      <td>14.223240</td>\n",
       "      <td>-42.087807</td>\n",
       "      <td>-45.538664</td>\n",
       "      <td>58.898976</td>\n",
       "      <td>27.749744</td>\n",
       "      <td>2.545916</td>\n",
       "      <td>...</td>\n",
       "      <td>57.027508</td>\n",
       "      <td>121.304258</td>\n",
       "      <td>31.507396</td>\n",
       "      <td>88.282912</td>\n",
       "      <td>66.766185</td>\n",
       "      <td>-4.363974</td>\n",
       "      <td>-5.791376</td>\n",
       "      <td>-32.101939</td>\n",
       "      <td>-52.255449</td>\n",
       "      <td>-4.826111</td>\n",
       "    </tr>\n",
       "    <tr>\n",
       "      <th>1</th>\n",
       "      <td>126.229973</td>\n",
       "      <td>133.463504</td>\n",
       "      <td>-105.511797</td>\n",
       "      <td>-149.110267</td>\n",
       "      <td>-3.673355</td>\n",
       "      <td>-104.302244</td>\n",
       "      <td>5.815395</td>\n",
       "      <td>100.838385</td>\n",
       "      <td>-46.240211</td>\n",
       "      <td>0.141700</td>\n",
       "      <td>...</td>\n",
       "      <td>4.819849</td>\n",
       "      <td>88.905713</td>\n",
       "      <td>51.475105</td>\n",
       "      <td>-73.257358</td>\n",
       "      <td>108.947287</td>\n",
       "      <td>8.567240</td>\n",
       "      <td>0.116269</td>\n",
       "      <td>-117.205053</td>\n",
       "      <td>-107.835928</td>\n",
       "      <td>-93.990332</td>\n",
       "    </tr>\n",
       "    <tr>\n",
       "      <th>2</th>\n",
       "      <td>369.571563</td>\n",
       "      <td>11.850181</td>\n",
       "      <td>-299.969407</td>\n",
       "      <td>29.371721</td>\n",
       "      <td>-3.457523</td>\n",
       "      <td>-115.901854</td>\n",
       "      <td>159.134323</td>\n",
       "      <td>-149.741411</td>\n",
       "      <td>-108.847522</td>\n",
       "      <td>0.078277</td>\n",
       "      <td>...</td>\n",
       "      <td>80.930568</td>\n",
       "      <td>-166.476192</td>\n",
       "      <td>-73.882682</td>\n",
       "      <td>108.222355</td>\n",
       "      <td>19.573192</td>\n",
       "      <td>-2.242024</td>\n",
       "      <td>0.515601</td>\n",
       "      <td>-25.218215</td>\n",
       "      <td>121.674228</td>\n",
       "      <td>-16.877368</td>\n",
       "    </tr>\n",
       "    <tr>\n",
       "      <th>3</th>\n",
       "      <td>-99.563708</td>\n",
       "      <td>-85.166292</td>\n",
       "      <td>-73.363391</td>\n",
       "      <td>-35.357907</td>\n",
       "      <td>5.437025</td>\n",
       "      <td>-54.892519</td>\n",
       "      <td>56.430532</td>\n",
       "      <td>-49.237377</td>\n",
       "      <td>-50.054608</td>\n",
       "      <td>2.586612</td>\n",
       "      <td>...</td>\n",
       "      <td>31.682235</td>\n",
       "      <td>209.163125</td>\n",
       "      <td>-22.847302</td>\n",
       "      <td>-62.067337</td>\n",
       "      <td>58.109167</td>\n",
       "      <td>2.862082</td>\n",
       "      <td>0.920341</td>\n",
       "      <td>-132.875142</td>\n",
       "      <td>3.492953</td>\n",
       "      <td>-15.799596</td>\n",
       "    </tr>\n",
       "    <tr>\n",
       "      <th>4</th>\n",
       "      <td>607.190430</td>\n",
       "      <td>-46.702493</td>\n",
       "      <td>89.640344</td>\n",
       "      <td>66.631778</td>\n",
       "      <td>10.684009</td>\n",
       "      <td>-96.907474</td>\n",
       "      <td>107.972049</td>\n",
       "      <td>-59.977307</td>\n",
       "      <td>131.682482</td>\n",
       "      <td>0.039683</td>\n",
       "      <td>...</td>\n",
       "      <td>67.689583</td>\n",
       "      <td>87.529016</td>\n",
       "      <td>-29.670445</td>\n",
       "      <td>-26.716226</td>\n",
       "      <td>2.961286</td>\n",
       "      <td>26.826557</td>\n",
       "      <td>0.195272</td>\n",
       "      <td>-141.970450</td>\n",
       "      <td>91.400530</td>\n",
       "      <td>-166.713867</td>\n",
       "    </tr>\n",
       "    <tr>\n",
       "      <th>...</th>\n",
       "      <td>...</td>\n",
       "      <td>...</td>\n",
       "      <td>...</td>\n",
       "      <td>...</td>\n",
       "      <td>...</td>\n",
       "      <td>...</td>\n",
       "      <td>...</td>\n",
       "      <td>...</td>\n",
       "      <td>...</td>\n",
       "      <td>...</td>\n",
       "      <td>...</td>\n",
       "      <td>...</td>\n",
       "      <td>...</td>\n",
       "      <td>...</td>\n",
       "      <td>...</td>\n",
       "      <td>...</td>\n",
       "      <td>...</td>\n",
       "      <td>...</td>\n",
       "      <td>...</td>\n",
       "      <td>...</td>\n",
       "      <td>...</td>\n",
       "    </tr>\n",
       "    <tr>\n",
       "      <th>9994</th>\n",
       "      <td>-91.804097</td>\n",
       "      <td>96.380816</td>\n",
       "      <td>-93.520627</td>\n",
       "      <td>85.282425</td>\n",
       "      <td>-7.178058</td>\n",
       "      <td>-58.349354</td>\n",
       "      <td>233.433179</td>\n",
       "      <td>67.060275</td>\n",
       "      <td>100.601251</td>\n",
       "      <td>2.607880</td>\n",
       "      <td>...</td>\n",
       "      <td>29.122841</td>\n",
       "      <td>418.328185</td>\n",
       "      <td>35.687836</td>\n",
       "      <td>-13.778557</td>\n",
       "      <td>19.527466</td>\n",
       "      <td>1.860720</td>\n",
       "      <td>-0.928468</td>\n",
       "      <td>100.397658</td>\n",
       "      <td>-83.305311</td>\n",
       "      <td>-132.648400</td>\n",
       "    </tr>\n",
       "    <tr>\n",
       "      <th>9995</th>\n",
       "      <td>-232.083597</td>\n",
       "      <td>-60.861115</td>\n",
       "      <td>45.472736</td>\n",
       "      <td>5.731012</td>\n",
       "      <td>-7.987843</td>\n",
       "      <td>39.012270</td>\n",
       "      <td>-78.622327</td>\n",
       "      <td>77.938740</td>\n",
       "      <td>8.091318</td>\n",
       "      <td>0.138990</td>\n",
       "      <td>...</td>\n",
       "      <td>86.281234</td>\n",
       "      <td>-29.944248</td>\n",
       "      <td>39.432925</td>\n",
       "      <td>89.389986</td>\n",
       "      <td>-51.332647</td>\n",
       "      <td>-3.602386</td>\n",
       "      <td>0.323119</td>\n",
       "      <td>35.417264</td>\n",
       "      <td>-66.463502</td>\n",
       "      <td>5.783203</td>\n",
       "    </tr>\n",
       "    <tr>\n",
       "      <th>9996</th>\n",
       "      <td>-182.455289</td>\n",
       "      <td>-73.963540</td>\n",
       "      <td>-221.763797</td>\n",
       "      <td>-96.181654</td>\n",
       "      <td>-4.056096</td>\n",
       "      <td>-121.460703</td>\n",
       "      <td>-33.409815</td>\n",
       "      <td>-136.962854</td>\n",
       "      <td>204.767129</td>\n",
       "      <td>0.023433</td>\n",
       "      <td>...</td>\n",
       "      <td>-23.305907</td>\n",
       "      <td>102.332041</td>\n",
       "      <td>-67.763884</td>\n",
       "      <td>-50.665547</td>\n",
       "      <td>-41.240901</td>\n",
       "      <td>1.876399</td>\n",
       "      <td>0.719234</td>\n",
       "      <td>-55.564211</td>\n",
       "      <td>-207.574071</td>\n",
       "      <td>86.333468</td>\n",
       "    </tr>\n",
       "    <tr>\n",
       "      <th>9997</th>\n",
       "      <td>-268.344148</td>\n",
       "      <td>53.342079</td>\n",
       "      <td>-176.197832</td>\n",
       "      <td>45.925889</td>\n",
       "      <td>9.604607</td>\n",
       "      <td>59.329437</td>\n",
       "      <td>67.922422</td>\n",
       "      <td>81.571360</td>\n",
       "      <td>-85.361397</td>\n",
       "      <td>2.654512</td>\n",
       "      <td>...</td>\n",
       "      <td>-69.562156</td>\n",
       "      <td>44.399330</td>\n",
       "      <td>42.172405</td>\n",
       "      <td>32.269383</td>\n",
       "      <td>39.902889</td>\n",
       "      <td>2.205488</td>\n",
       "      <td>4.073904</td>\n",
       "      <td>-7.932393</td>\n",
       "      <td>2.626694</td>\n",
       "      <td>78.433097</td>\n",
       "    </tr>\n",
       "    <tr>\n",
       "      <th>9998</th>\n",
       "      <td>-766.308667</td>\n",
       "      <td>-136.240073</td>\n",
       "      <td>26.516587</td>\n",
       "      <td>-153.518440</td>\n",
       "      <td>-6.515163</td>\n",
       "      <td>86.701607</td>\n",
       "      <td>155.733257</td>\n",
       "      <td>238.601187</td>\n",
       "      <td>-27.854601</td>\n",
       "      <td>2.599449</td>\n",
       "      <td>...</td>\n",
       "      <td>32.248595</td>\n",
       "      <td>71.169494</td>\n",
       "      <td>121.583149</td>\n",
       "      <td>27.046068</td>\n",
       "      <td>-130.540017</td>\n",
       "      <td>-12.519139</td>\n",
       "      <td>-1.647082</td>\n",
       "      <td>152.856744</td>\n",
       "      <td>-68.890937</td>\n",
       "      <td>56.441209</td>\n",
       "    </tr>\n",
       "  </tbody>\n",
       "</table>\n",
       "<p>9999 rows × 30 columns</p>\n",
       "</div>"
      ],
      "text/plain": [
       "      -220.53052981117037  -70.19744010822103  119.03518124257707  \\\n",
       "0               -8.536541           -8.305435         -117.828269   \n",
       "1              126.229973          133.463504         -105.511797   \n",
       "2              369.571563           11.850181         -299.969407   \n",
       "3              -99.563708          -85.166292          -73.363391   \n",
       "4              607.190430          -46.702493           89.640344   \n",
       "...                   ...                 ...                 ...   \n",
       "9994           -91.804097           96.380816          -93.520627   \n",
       "9995          -232.083597          -60.861115           45.472736   \n",
       "9996          -182.455289          -73.963540         -221.763797   \n",
       "9997          -268.344148           53.342079         -176.197832   \n",
       "9998          -766.308667         -136.240073           26.516587   \n",
       "\n",
       "      20.711737029432243  -6.152985812887686  52.22505145235192  \\\n",
       "0             -28.588333           14.223240         -42.087807   \n",
       "1            -149.110267           -3.673355        -104.302244   \n",
       "2              29.371721           -3.457523        -115.901854   \n",
       "3             -35.357907            5.437025         -54.892519   \n",
       "4              66.631778           10.684009         -96.907474   \n",
       "...                  ...                 ...                ...   \n",
       "9994           85.282425           -7.178058         -58.349354   \n",
       "9995            5.731012           -7.987843          39.012270   \n",
       "9996          -96.181654           -4.056096        -121.460703   \n",
       "9997           45.925889            9.604607          59.329437   \n",
       "9998         -153.518440           -6.515163          86.701607   \n",
       "\n",
       "      -23.23090327838962  -166.52187139825747  -41.57146270993908  \\\n",
       "0             -45.538664            58.898976           27.749744   \n",
       "1               5.815395           100.838385          -46.240211   \n",
       "2             159.134323          -149.741411         -108.847522   \n",
       "3              56.430532           -49.237377          -50.054608   \n",
       "4             107.972049           -59.977307          131.682482   \n",
       "...                  ...                  ...                 ...   \n",
       "9994          233.433179            67.060275          100.601251   \n",
       "9995          -78.622327            77.938740            8.091318   \n",
       "9996          -33.409815          -136.962854          204.767129   \n",
       "9997           67.922422            81.571360          -85.361397   \n",
       "9998          155.733257           238.601187          -27.854601   \n",
       "\n",
       "      2.620401107622818  ...  16.93642041046429  46.54358453841927  \\\n",
       "0              2.545916  ...          57.027508         121.304258   \n",
       "1              0.141700  ...           4.819849          88.905713   \n",
       "2              0.078277  ...          80.930568        -166.476192   \n",
       "3              2.586612  ...          31.682235         209.163125   \n",
       "4              0.039683  ...          67.689583          87.529016   \n",
       "...                 ...  ...                ...                ...   \n",
       "9994           2.607880  ...          29.122841         418.328185   \n",
       "9995           0.138990  ...          86.281234         -29.944248   \n",
       "9996           0.023433  ...         -23.305907         102.332041   \n",
       "9997           2.654512  ...         -69.562156          44.399330   \n",
       "9998           2.599449  ...          32.248595          71.169494   \n",
       "\n",
       "      -80.96217131632008  -146.65221819511046  10.899084620696035  \\\n",
       "0              31.507396            88.282912           66.766185   \n",
       "1              51.475105           -73.257358          108.947287   \n",
       "2             -73.882682           108.222355           19.573192   \n",
       "3             -22.847302           -62.067337           58.109167   \n",
       "4             -29.670445           -26.716226            2.961286   \n",
       "...                  ...                  ...                 ...   \n",
       "9994           35.687836           -13.778557           19.527466   \n",
       "9995           39.432925            89.389986          -51.332647   \n",
       "9996          -67.763884           -50.665547          -41.240901   \n",
       "9997           42.172405            32.269383           39.902889   \n",
       "9998          121.583149            27.046068         -130.540017   \n",
       "\n",
       "      4.370984578313747  4.060271578238659  40.68088991776954  \\\n",
       "0             -4.363974          -5.791376         -32.101939   \n",
       "1              8.567240           0.116269        -117.205053   \n",
       "2             -2.242024           0.515601         -25.218215   \n",
       "3              2.862082           0.920341        -132.875142   \n",
       "4             26.826557           0.195272        -141.970450   \n",
       "...                 ...                ...                ...   \n",
       "9994           1.860720          -0.928468         100.397658   \n",
       "9995          -3.602386           0.323119          35.417264   \n",
       "9996           1.876399           0.719234         -55.564211   \n",
       "9997           2.205488           4.073904          -7.932393   \n",
       "9998         -12.519139          -1.647082         152.856744   \n",
       "\n",
       "      -37.94265512724697  33.83822486571413  \n",
       "0             -52.255449          -4.826111  \n",
       "1            -107.835928         -93.990332  \n",
       "2             121.674228         -16.877368  \n",
       "3               3.492953         -15.799596  \n",
       "4              91.400530        -166.713867  \n",
       "...                  ...                ...  \n",
       "9994          -83.305311        -132.648400  \n",
       "9995          -66.463502           5.783203  \n",
       "9996         -207.574071          86.333468  \n",
       "9997            2.626694          78.433097  \n",
       "9998          -68.890937          56.441209  \n",
       "\n",
       "[9999 rows x 30 columns]"
      ]
     },
     "execution_count": 54,
     "metadata": {},
     "output_type": "execute_result"
    }
   ],
   "source": [
    "X"
   ]
  },
  {
   "cell_type": "code",
   "execution_count": 39,
   "metadata": {},
   "outputs": [],
   "source": [
    "from sklearn.model_selection import train_test_split\n",
    "\n",
    "TRAIN_SIZE = 0.8\n",
    "RANDOM_SEED = 42\n",
    "\n",
    "# split dataset\n",
    "X_train, X_test, y_train, y_test = train_test_split(X,\n",
    "                                                    y,\n",
    "                                                    train_size=TRAIN_SIZE,\n",
    "                                                    shuffle=True,\n",
    "                                                    random_state=RANDOM_SEED)"
   ]
  },
  {
   "cell_type": "code",
   "execution_count": 40,
   "metadata": {
    "scrolled": false
   },
   "outputs": [
    {
     "data": {
      "text/plain": [
       "((7999, 30), (2000, 30), (7999,), (2000,), (9999, 30))"
      ]
     },
     "execution_count": 40,
     "metadata": {},
     "output_type": "execute_result"
    }
   ],
   "source": [
    "# проверяем еще раз размер выборок\n",
    "X_train.shape, X_test.shape, y_train.shape, y_test.shape, X.shape"
   ]
  },
  {
   "cell_type": "markdown",
   "metadata": {},
   "source": [
    "### Model fitting"
   ]
  },
  {
   "cell_type": "code",
   "execution_count": 52,
   "metadata": {},
   "outputs": [
    {
     "name": "stdout",
     "output_type": "stream",
     "text": [
      "DTC F1 score: 1.0\n"
     ]
    },
    {
     "data": {
      "image/png": "[encoded data removed]",
      "text/plain": [
       "<Figure size 432x288 with 1 Axes>"
      ]
     },
     "metadata": {
      "needs_background": "light"
     },
     "output_type": "display_data"
    }
   ],
   "source": [
    "# DecisionTreeClassifier\n",
    "from sklearn.metrics import f1_score, roc_curve, roc_auc_score\n",
    "from sklearn.tree import DecisionTreeClassifier\n",
    "\n",
    "MAX_DEPTH = 10\n",
    "RANDOM_SEED = 42\n",
    "MIN_SAMPLE_LEAF = 5\n",
    "\n",
    "dtc_tree = DecisionTreeClassifier(\n",
    "    max_depth=MAX_DEPTH,\n",
    "    min_samples_leaf = MIN_SAMPLE_LEAF,\n",
    "    random_state=RANDOM_SEED)\n",
    "\n",
    "# training the tree\n",
    "dtc_tree.fit(X_train, y_train)\n",
    "\n",
    "# prediction\n",
    "y_pred_dtc = dtc_tree.predict(X_test)\n",
    "\n",
    "# f1 score\n",
    "print('DTC F1 score:', f1_score(y_test, y_pred_dtc))\n",
    "\n",
    "fpr, tpr, threshold = roc_curve(y_test, y_pred_dtc)\n",
    "roc_auc = roc_auc_score(y_test, y_pred_dtc)\n",
    "\n",
    "plt.figure()\n",
    "plt.plot([0, 1], label='Baseline', linestyle='--')\n",
    "plt.plot(fpr, tpr, label = 'DecisionTreeClassifier')\n",
    "plt.title('Logistic Regression ROC AUC = %0.3f' % roc_auc)\n",
    "plt.ylabel('True Positive Rate')\n",
    "plt.xlabel('False Positive Rate')\n",
    "plt.legend(loc = 'lower right')\n",
    "plt.show()"
   ]
  },
  {
   "cell_type": "markdown",
   "metadata": {},
   "source": [
    "### Bagging"
   ]
  },
  {
   "cell_type": "code",
   "execution_count": 47,
   "metadata": {},
   "outputs": [
    {
     "name": "stdout",
     "output_type": "stream",
     "text": [
      "LR F1 score: 1.0\n"
     ]
    },
    {
     "data": {
      "image/png": "[encoded data removed]",
      "text/plain": [
       "<Figure size 432x288 with 1 Axes>"
      ]
     },
     "metadata": {
      "needs_background": "light"
     },
     "output_type": "display_data"
    }
   ],
   "source": [
    "from sklearn.ensemble import BaggingClassifier\n",
    "\n",
    "# parameters\n",
    "N_ESTIMATORS = 1500\n",
    "\n",
    "# training the tree\n",
    "bg = BaggingClassifier(base_estimator=DecisionTreeClassifier(),\n",
    "                        n_estimators=N_ESTIMATORS,\n",
    "                        random_state=RANDOM_SEED).fit(X_train, y_train)\n",
    "\n",
    "# prediction\n",
    "y_pred_bg = bg.predict(X_test)\n",
    "\n",
    "# f1 score\n",
    "print('LR F1 score:', f1_score(y_test, y_pred_bg))\n",
    "\n",
    "fpr, tpr, threshold = roc_curve(y_test, y_pred_bg)\n",
    "roc_auc = roc_auc_score(y_test, y_pred_bg)\n",
    "\n",
    "plt.figure()\n",
    "plt.plot([0, 1], label='Baseline', linestyle='--')\n",
    "plt.plot(fpr, tpr, label = 'BaggingClassifier')\n",
    "plt.title('Logistic Regression ROC AUC = %0.3f' % roc_auc)\n",
    "plt.ylabel('True Positive Rate')\n",
    "plt.xlabel('False Positive Rate')\n",
    "plt.legend(loc = 'lower right')\n",
    "plt.show()"
   ]
  },
  {
   "cell_type": "markdown",
   "metadata": {},
   "source": [
    "### Export Prediction"
   ]
  },
  {
   "cell_type": "code",
   "execution_count": 28,
   "metadata": {},
   "outputs": [],
   "source": [
    "bg_submission = pd.DataFrame(catboost_pred)\n",
    "bg_submission.to_csv('input/submission.csv', index=False)"
   ]
  },
  {
   "cell_type": "code",
   "execution_count": 29,
   "metadata": {},
   "outputs": [
    {
     "data": {
      "text/plain": [
       "(2000, 1)"
      ]
     },
     "execution_count": 29,
     "metadata": {},
     "output_type": "execute_result"
    }
   ],
   "source": [
    "catboost_submission.shape"
   ]
  }
 ],
 "metadata": {
  "kernelspec": {
   "display_name": "Python 3",
   "language": "python",
   "name": "python3"
  },
  "language_info": {
   "codemirror_mode": {
    "name": "ipython",
    "version": 3
   },
   "file_extension": ".py",
   "mimetype": "text/x-python",
   "name": "python",
   "nbconvert_exporter": "python",
   "pygments_lexer": "ipython3",
   "version": "3.7.7"
  }
 },
 "nbformat": 4,
 "nbformat_minor": 4
}
