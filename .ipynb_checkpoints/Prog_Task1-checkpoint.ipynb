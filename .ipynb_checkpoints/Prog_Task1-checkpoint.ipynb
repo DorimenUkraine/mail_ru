{
 "cells": [
  {
   "cell_type": "code",
   "execution_count": 2,
   "metadata": {},
   "outputs": [
    {
     "data": {
      "text/plain": [
       "[3, 5, 6, 9, 10, 12, 17, 18, 20, 24]"
      ]
     },
     "execution_count": 2,
     "metadata": {},
     "output_type": "execute_result"
    }
   ],
   "source": [
    "# var1\n",
    "\n",
    "def fun(n):\n",
    "    high = 1\n",
    "    while n > 0:\n",
    "        low = 0\n",
    "        while low < high:\n",
    "            yield (1 << high) + (1 << low)\n",
    "            n -= 1\n",
    "            if n == 0:\n",
    "                return\n",
    "            low += 1\n",
    "        high += 1\n",
    "                \n",
    "    \n",
    "list(fun(10))\n",
    "\n",
    "        \n",
    "# var2 - optimization\n",
    "\n",
    "# from itertools import count, islice\n",
    "\n",
    "# gen = ((1 << x) | (1 << y) for x in count() for y in range(x))\n",
    "\n",
    "# for x in islice(gen, 0, 10**6):\n",
    "#     print(bin(x))"
   ]
  }
 ],
 "metadata": {
  "kernelspec": {
   "display_name": "Python 3",
   "language": "python",
   "name": "python3"
  },
  "language_info": {
   "codemirror_mode": {
    "name": "ipython",
    "version": 3
   },
   "file_extension": ".py",
   "mimetype": "text/x-python",
   "name": "python",
   "nbconvert_exporter": "python",
   "pygments_lexer": "ipython3",
   "version": "3.7.7"
  }
 },
 "nbformat": 4,
 "nbformat_minor": 4
}
